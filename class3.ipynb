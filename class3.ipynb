{
 "cells": [
  {
   "cell_type": "markdown",
   "id": "c7a76051-0958-4795-91dc-9a882c7363d4",
   "metadata": {},
   "source": []
  },
  {
   "cell_type": "code",
   "execution_count": 3,
   "id": "23397fab-0c1c-4fa4-a500-284f85b07c88",
   "metadata": {},
   "outputs": [
    {
     "name": "stdout",
     "output_type": "stream",
     "text": [
      "Hellow World\n"
     ]
    }
   ],
   "source": [
    "print(\"Hellow World\")"
   ]
  },
  {
   "cell_type": "code",
   "execution_count": 6,
   "id": "83925a37-dc86-4a4a-8569-e2647f89a2f9",
   "metadata": {},
   "outputs": [
    {
     "name": "stdout",
     "output_type": "stream",
     "text": [
      "greetings from iNeuron\n",
      "Good Evening\n"
     ]
    }
   ],
   "source": [
    "print(\"greetings from iNeuron\")\n",
    "print(\"Good Evening\")"
   ]
  },
  {
   "cell_type": "code",
   "execution_count": 10,
   "id": "af1428f8-471d-4041-968b-404869d2e930",
   "metadata": {},
   "outputs": [
    {
     "name": "stdout",
     "output_type": "stream",
     "text": [
      "Good Evening\n"
     ]
    }
   ],
   "source": [
    "print(\"Good Evening\")"
   ]
  },
  {
   "cell_type": "code",
   "execution_count": 11,
   "id": "e69133a0-f8ef-418d-8e11-e0b34fccd802",
   "metadata": {},
   "outputs": [
    {
     "data": {
      "text/plain": [
       "'Good Morning'"
      ]
     },
     "execution_count": 11,
     "metadata": {},
     "output_type": "execute_result"
    }
   ],
   "source": [
    "\"Good Morning\""
   ]
  },
  {
   "cell_type": "code",
   "execution_count": 12,
   "id": "6b75f5f2-2f6c-4c88-af46-56481c5945b7",
   "metadata": {},
   "outputs": [
    {
     "name": "stdout",
     "output_type": "stream",
     "text": [
      "Hi\n"
     ]
    }
   ],
   "source": [
    "\"Good Morning\"\n",
    "print(\"Hi\")"
   ]
  },
  {
   "cell_type": "code",
   "execution_count": 24,
   "id": "62b41f78-b34f-43b1-95e8-9b72740faa69",
   "metadata": {},
   "outputs": [
    {
     "name": "stdout",
     "output_type": "stream",
     "text": [
      "good\n",
      "morning\n",
      "india\n"
     ]
    }
   ],
   "source": [
    "print(\"\"\"good\n",
    "morning\n",
    "india\"\"\")"
   ]
  },
  {
   "cell_type": "markdown",
   "id": "843963a2-65f7-4e13-b744-4e4a0818e465",
   "metadata": {},
   "source": [
    "# Comments"
   ]
  },
  {
   "cell_type": "code",
   "execution_count": 26,
   "id": "c7d7b5fc-ae5d-47f7-9662-af093d577ea1",
   "metadata": {},
   "outputs": [
    {
     "name": "stdout",
     "output_type": "stream",
     "text": [
      "Hi students\n"
     ]
    }
   ],
   "source": [
    "# say Hello to the students\n",
    "print(\"Hi students\")"
   ]
  },
  {
   "cell_type": "markdown",
   "id": "137d0ddf-ec12-4525-8bf1-7118e9757763",
   "metadata": {},
   "source": [
    "# Header"
   ]
  },
  {
   "cell_type": "code",
   "execution_count": 30,
   "id": "9e34d07c-9b00-46fe-abe9-63ea5cd69f39",
   "metadata": {},
   "outputs": [
    {
     "data": {
      "text/plain": [
       "'\\nSay Hi to Students\\n'"
      ]
     },
     "execution_count": 30,
     "metadata": {},
     "output_type": "execute_result"
    }
   ],
   "source": [
    "\"\"\"\n",
    "Say Hi to Students\n",
    "\"\"\""
   ]
  },
  {
   "cell_type": "code",
   "execution_count": 32,
   "id": "c2d74fca-46a9-48c3-bbde-2870e90c69ee",
   "metadata": {},
   "outputs": [],
   "source": [
    "ten10 = 10"
   ]
  },
  {
   "cell_type": "code",
   "execution_count": 33,
   "id": "0806ed74-59ed-413e-9da0-b950a208aba4",
   "metadata": {},
   "outputs": [
    {
     "data": {
      "text/plain": [
       "10"
      ]
     },
     "execution_count": 33,
     "metadata": {},
     "output_type": "execute_result"
    }
   ],
   "source": [
    "ten10"
   ]
  },
  {
   "cell_type": "code",
   "execution_count": 34,
   "id": "83c7ac30-f61a-4641-a000-78797a8358db",
   "metadata": {},
   "outputs": [],
   "source": [
    "a= 10"
   ]
  },
  {
   "cell_type": "code",
   "execution_count": 35,
   "id": "c1af36c2-b446-44cc-81c2-bd52ad988714",
   "metadata": {},
   "outputs": [
    {
     "data": {
      "text/plain": [
       "1"
      ]
     },
     "execution_count": 35,
     "metadata": {},
     "output_type": "execute_result"
    }
   ],
   "source": [
    "1"
   ]
  },
  {
   "cell_type": "code",
   "execution_count": 36,
   "id": "4d2e7149-fa9a-4439-8ee4-3e5abbfd258c",
   "metadata": {},
   "outputs": [
    {
     "data": {
      "text/plain": [
       "10"
      ]
     },
     "execution_count": 36,
     "metadata": {},
     "output_type": "execute_result"
    }
   ],
   "source": [
    "a"
   ]
  },
  {
   "cell_type": "code",
   "execution_count": 37,
   "id": "ace30ad0-01ca-4774-94f7-c0244e5d81e8",
   "metadata": {},
   "outputs": [
    {
     "name": "stdout",
     "output_type": "stream",
     "text": [
      "<class 'int'>\n",
      "<class 'float'>\n"
     ]
    }
   ],
   "source": [
    "a=2\n",
    "print(type(a))\n",
    "a=2.2\n",
    "print(type(a))"
   ]
  },
  {
   "cell_type": "code",
   "execution_count": 39,
   "id": "b8d9a941-d73c-4d4c-9ba8-a411daf2a034",
   "metadata": {},
   "outputs": [
    {
     "name": "stdout",
     "output_type": "stream",
     "text": [
      "the result sum of two nums a:1 and b:2 is =3\n"
     ]
    }
   ],
   "source": [
    "a=1\n",
    "b=2\n",
    "c=a+b\n",
    "print(f\"the result sum of two nums a:{a} and b:{b} is ={c}\")"
   ]
  },
  {
   "cell_type": "code",
   "execution_count": 43,
   "id": "59062b38-5ce9-4d78-bc02-a42536f76192",
   "metadata": {},
   "outputs": [
    {
     "name": "stdout",
     "output_type": "stream",
     "text": [
      "You understood Everything?:  True\n"
     ]
    }
   ],
   "source": [
    "class_starts_at = 1700\n",
    "you_come_at = 1600\n",
    "you_understood_all_concepts = you_come_at < class_starts_at\n",
    "print(f\"You understood Everything?:  {you_understood_all_concepts}\")"
   ]
  },
  {
   "cell_type": "code",
   "execution_count": null,
   "id": "0800bdcd-9a60-464c-9c27-62401b773acc",
   "metadata": {},
   "outputs": [],
   "source": []
  }
 ],
 "metadata": {
  "kernelspec": {
   "display_name": "Python 3 (ipykernel)",
   "language": "python",
   "name": "python3"
  },
  "language_info": {
   "codemirror_mode": {
    "name": "ipython",
    "version": 3
   },
   "file_extension": ".py",
   "mimetype": "text/x-python",
   "name": "python",
   "nbconvert_exporter": "python",
   "pygments_lexer": "ipython3",
   "version": "3.12.5"
  }
 },
 "nbformat": 4,
 "nbformat_minor": 5
}
